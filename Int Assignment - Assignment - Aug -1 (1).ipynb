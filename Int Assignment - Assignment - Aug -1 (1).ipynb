{
 "cells": [
  {
   "cell_type": "code",
   "execution_count": 1,
   "id": "6b096126",
   "metadata": {},
   "outputs": [
    {
     "name": "stdout",
     "output_type": "stream",
     "text": [
      "10 <class 'int'>\n"
     ]
    }
   ],
   "source": [
    "\n",
    "a= int(10)\n",
    "print (a,type(a))"
   ]
  },
  {
   "cell_type": "code",
   "execution_count": 2,
   "id": "6f01a034",
   "metadata": {},
   "outputs": [
    {
     "name": "stdout",
     "output_type": "stream",
     "text": [
      "140704164162096\n",
      "140704164162096\n"
     ]
    }
   ],
   "source": [
    "a= int(25)\n",
    "b=int(25)\n",
    "print(id(a))\n",
    "print (id(b))"
   ]
  },
  {
   "cell_type": "code",
   "execution_count": 3,
   "id": "c098174d",
   "metadata": {},
   "outputs": [
    {
     "name": "stdout",
     "output_type": "stream",
     "text": [
      "1545892458736\n",
      "1545892459088\n"
     ]
    }
   ],
   "source": [
    "a=int(257)\n",
    "b=int(257)\n",
    "print(id(a))\n",
    "print(id(b))"
   ]
  },
  {
   "cell_type": "code",
   "execution_count": 6,
   "id": "dbc1f41c",
   "metadata": {},
   "outputs": [
    {
     "name": "stdout",
     "output_type": "stream",
     "text": [
      "Sum of both numbers 30\n",
      "Diff of both numbers 10\n",
      "Multipication of both numbers 200\n",
      "Division of both numbers 2.0\n",
      "Reminder is 0\n",
      "Quotient is 2\n",
      "exponent 10240000000000\n"
     ]
    }
   ],
   "source": [
    "a= int(20)\n",
    "b= int(10)\n",
    "s= a+b\n",
    "d=a-b\n",
    "\n",
    "m=a*b\n",
    "dd=a/b\n",
    "r=a%b\n",
    "f= a//b\n",
    "e=a**b\n",
    "\n",
    "print(\"Sum of both numbers\",s)\n",
    "print(\"Diff of both numbers\",d)\n",
    "print(\"Multipication of both numbers\",m)\n",
    "print(\"Division of both numbers\",dd)\n",
    "print(\"Reminder is\",r)\n",
    "print(\"Quotient is\",f)\n",
    "print(\"exponent\",e)\n",
    "\n"
   ]
  },
  {
   "cell_type": "code",
   "execution_count": 10,
   "id": "9791a7a0",
   "metadata": {},
   "outputs": [
    {
     "data": {
      "text/plain": [
       "True"
      ]
     },
     "execution_count": 10,
     "metadata": {},
     "output_type": "execute_result"
    }
   ],
   "source": [
    "a= int(55)\n",
    "b=int(43)\n",
    "\n",
    "a>b\n",
    "\n",
    "\n"
   ]
  },
  {
   "cell_type": "code",
   "execution_count": 11,
   "id": "584e267a",
   "metadata": {},
   "outputs": [
    {
     "data": {
      "text/plain": [
       "False"
      ]
     },
     "execution_count": 11,
     "metadata": {},
     "output_type": "execute_result"
    }
   ],
   "source": [
    "a= int(55)\n",
    "b=int(43)\n",
    "\n",
    "a<b"
   ]
  },
  {
   "cell_type": "code",
   "execution_count": 12,
   "id": "27118603",
   "metadata": {},
   "outputs": [
    {
     "data": {
      "text/plain": [
       "True"
      ]
     },
     "execution_count": 12,
     "metadata": {},
     "output_type": "execute_result"
    }
   ],
   "source": [
    "a= int(55)\n",
    "b=int(43)\n",
    "\n",
    "a>=b"
   ]
  },
  {
   "cell_type": "code",
   "execution_count": 13,
   "id": "cc60e0a8",
   "metadata": {},
   "outputs": [
    {
     "data": {
      "text/plain": [
       "False"
      ]
     },
     "execution_count": 13,
     "metadata": {},
     "output_type": "execute_result"
    }
   ],
   "source": [
    "a= int(55)\n",
    "b=int(43)\n",
    "\n",
    "a<=b"
   ]
  },
  {
   "cell_type": "code",
   "execution_count": 14,
   "id": "3d4d6f0a",
   "metadata": {},
   "outputs": [
    {
     "data": {
      "text/plain": [
       "False"
      ]
     },
     "execution_count": 14,
     "metadata": {},
     "output_type": "execute_result"
    }
   ],
   "source": [
    "a=int(23)\n",
    "b=int(78)\n",
    "\n",
    "a==b"
   ]
  },
  {
   "cell_type": "code",
   "execution_count": 15,
   "id": "f1b6e103",
   "metadata": {},
   "outputs": [
    {
     "data": {
      "text/plain": [
       "True"
      ]
     },
     "execution_count": 15,
     "metadata": {},
     "output_type": "execute_result"
    }
   ],
   "source": [
    "a=int(23)\n",
    "b=int(78)\n",
    "\n",
    "a!=b"
   ]
  },
  {
   "cell_type": "code",
   "execution_count": 16,
   "id": "93962218",
   "metadata": {},
   "outputs": [
    {
     "name": "stdout",
     "output_type": "stream",
     "text": [
      "20\n"
     ]
    }
   ],
   "source": [
    "print (10 and 20)"
   ]
  },
  {
   "cell_type": "code",
   "execution_count": 17,
   "id": "632bfb8f",
   "metadata": {},
   "outputs": [
    {
     "name": "stdout",
     "output_type": "stream",
     "text": [
      "0\n"
     ]
    }
   ],
   "source": [
    "print (0 and 20)"
   ]
  },
  {
   "cell_type": "code",
   "execution_count": 18,
   "id": "2bacc817",
   "metadata": {},
   "outputs": [
    {
     "name": "stdout",
     "output_type": "stream",
     "text": [
      "0\n"
     ]
    }
   ],
   "source": [
    "print(20 and 0)"
   ]
  },
  {
   "cell_type": "code",
   "execution_count": 19,
   "id": "fe40007d",
   "metadata": {},
   "outputs": [
    {
     "name": "stdout",
     "output_type": "stream",
     "text": [
      "0\n"
     ]
    }
   ],
   "source": [
    "print ( 0 and 0)"
   ]
  },
  {
   "cell_type": "code",
   "execution_count": 20,
   "id": "d2d85a9d",
   "metadata": {},
   "outputs": [
    {
     "name": "stdout",
     "output_type": "stream",
     "text": [
      "10\n"
     ]
    }
   ],
   "source": [
    "print(10 or 20)"
   ]
  },
  {
   "cell_type": "code",
   "execution_count": 21,
   "id": "b1bced29",
   "metadata": {},
   "outputs": [
    {
     "name": "stdout",
     "output_type": "stream",
     "text": [
      "20\n"
     ]
    }
   ],
   "source": [
    "print(0 or 20)"
   ]
  },
  {
   "cell_type": "code",
   "execution_count": 22,
   "id": "b752ca27",
   "metadata": {},
   "outputs": [
    {
     "name": "stdout",
     "output_type": "stream",
     "text": [
      "20\n"
     ]
    }
   ],
   "source": [
    "print(20 or 0)\n"
   ]
  },
  {
   "cell_type": "code",
   "execution_count": 23,
   "id": "c210c2a2",
   "metadata": {},
   "outputs": [
    {
     "name": "stdout",
     "output_type": "stream",
     "text": [
      "0\n"
     ]
    }
   ],
   "source": [
    "print(0 or 0)"
   ]
  },
  {
   "cell_type": "code",
   "execution_count": 24,
   "id": "6b930b26",
   "metadata": {},
   "outputs": [
    {
     "name": "stdout",
     "output_type": "stream",
     "text": [
      "False\n"
     ]
    }
   ],
   "source": [
    "print(not 10)"
   ]
  },
  {
   "cell_type": "code",
   "execution_count": 25,
   "id": "b9a7e6e7",
   "metadata": {},
   "outputs": [
    {
     "name": "stdout",
     "output_type": "stream",
     "text": [
      "True\n"
     ]
    }
   ],
   "source": [
    "print (not 0)"
   ]
  },
  {
   "cell_type": "code",
   "execution_count": 26,
   "id": "5e8b4a4f",
   "metadata": {},
   "outputs": [
    {
     "name": "stdout",
     "output_type": "stream",
     "text": [
      "0\n"
     ]
    }
   ],
   "source": [
    "print(10 & 20)"
   ]
  },
  {
   "cell_type": "code",
   "execution_count": 27,
   "id": "9a912800",
   "metadata": {},
   "outputs": [
    {
     "name": "stdout",
     "output_type": "stream",
     "text": [
      "30\n"
     ]
    }
   ],
   "source": [
    "print(10|20)"
   ]
  },
  {
   "cell_type": "code",
   "execution_count": 28,
   "id": "3282a135",
   "metadata": {},
   "outputs": [
    {
     "name": "stdout",
     "output_type": "stream",
     "text": [
      "30\n"
     ]
    }
   ],
   "source": [
    "print(10^20)"
   ]
  },
  {
   "cell_type": "code",
   "execution_count": 29,
   "id": "47842cb4",
   "metadata": {},
   "outputs": [
    {
     "name": "stdout",
     "output_type": "stream",
     "text": [
      "-11\n"
     ]
    }
   ],
   "source": [
    "print(~10)\n"
   ]
  },
  {
   "cell_type": "code",
   "execution_count": 30,
   "id": "ff8f9554",
   "metadata": {},
   "outputs": [
    {
     "name": "stdout",
     "output_type": "stream",
     "text": [
      "40\n"
     ]
    }
   ],
   "source": [
    "print(10<<2)"
   ]
  },
  {
   "cell_type": "code",
   "execution_count": 31,
   "id": "49016f22",
   "metadata": {},
   "outputs": [
    {
     "name": "stdout",
     "output_type": "stream",
     "text": [
      "2\n"
     ]
    }
   ],
   "source": [
    "print(10>>2)"
   ]
  },
  {
   "cell_type": "code",
   "execution_count": 35,
   "id": "a6740fa5",
   "metadata": {},
   "outputs": [
    {
     "name": "stdout",
     "output_type": "stream",
     "text": [
      "True\n",
      "False\n",
      "140704164161616\n",
      "140704164161616\n"
     ]
    }
   ],
   "source": [
    "a=10\n",
    "b=10\n",
    "print(a is b)\n",
    "print( a is not b)\n",
    "print (id(a))\n",
    "print (id(b))"
   ]
  },
  {
   "cell_type": "code",
   "execution_count": 36,
   "id": "68680134",
   "metadata": {},
   "outputs": [
    {
     "name": "stdout",
     "output_type": "stream",
     "text": [
      "False\n",
      "True\n",
      "1545892462192\n",
      "1545892460432\n"
     ]
    }
   ],
   "source": [
    "a=1000\n",
    "b=1000\n",
    "print (a is b)\n",
    "print(a is not b)\n",
    "print (id(a))\n",
    "print (id(b))"
   ]
  },
  {
   "cell_type": "code",
   "execution_count": 37,
   "id": "cce9b24d",
   "metadata": {},
   "outputs": [
    {
     "name": "stdout",
     "output_type": "stream",
     "text": [
      "20\n"
     ]
    }
   ],
   "source": [
    "print(10+(10*32)//2**5&20+(~(-10))<<2)\n",
    "\n"
   ]
  },
  {
   "cell_type": "code",
   "execution_count": 38,
   "id": "831ca3e2",
   "metadata": {},
   "outputs": [
    {
     "name": "stdout",
     "output_type": "stream",
     "text": [
      "True\n"
     ]
    }
   ],
   "source": [
    "print('2' in 'Python2.7.8')"
   ]
  },
  {
   "cell_type": "code",
   "execution_count": 39,
   "id": "2a70bcf5",
   "metadata": {},
   "outputs": [
    {
     "name": "stdout",
     "output_type": "stream",
     "text": [
      "True\n"
     ]
    }
   ],
   "source": [
    "print(10 in [10,10.20,10+20j,'Python'])"
   ]
  },
  {
   "cell_type": "code",
   "execution_count": 40,
   "id": "8984c97f",
   "metadata": {},
   "outputs": [
    {
     "name": "stdout",
     "output_type": "stream",
     "text": [
      "True\n"
     ]
    }
   ],
   "source": [
    "print(10 in (10,10.20,10+20j,'Python'))"
   ]
  },
  {
   "cell_type": "code",
   "execution_count": 41,
   "id": "2078c256",
   "metadata": {},
   "outputs": [
    {
     "name": "stdout",
     "output_type": "stream",
     "text": [
      "True\n"
     ]
    }
   ],
   "source": [
    "print(2 in {1,2,3})"
   ]
  },
  {
   "cell_type": "code",
   "execution_count": 42,
   "id": "55fa4a50",
   "metadata": {},
   "outputs": [
    {
     "name": "stdout",
     "output_type": "stream",
     "text": [
      "True\n"
     ]
    }
   ],
   "source": [
    "print(3 in {1:100, 2:200, 3:300})"
   ]
  },
  {
   "cell_type": "code",
   "execution_count": 43,
   "id": "95cec721",
   "metadata": {},
   "outputs": [
    {
     "name": "stdout",
     "output_type": "stream",
     "text": [
      "True\n"
     ]
    }
   ],
   "source": [
    "print(10 in range(20))"
   ]
  },
  {
   "cell_type": "code",
   "execution_count": null,
   "id": "c921d600",
   "metadata": {},
   "outputs": [],
   "source": []
  }
 ],
 "metadata": {
  "kernelspec": {
   "display_name": "Python 3",
   "language": "python",
   "name": "python3"
  },
  "language_info": {
   "codemirror_mode": {
    "name": "ipython",
    "version": 3
   },
   "file_extension": ".py",
   "mimetype": "text/x-python",
   "name": "python",
   "nbconvert_exporter": "python",
   "pygments_lexer": "ipython3",
   "version": "3.8.8"
  }
 },
 "nbformat": 4,
 "nbformat_minor": 5
}
